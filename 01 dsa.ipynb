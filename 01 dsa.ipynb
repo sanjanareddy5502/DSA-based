{
 "cells": [
  {
   "cell_type": "markdown",
   "id": "52567ef7-08a5-47a1-818f-2b9623047ccf",
   "metadata": {},
   "source": [
    "Assignment 1 Questions - Arrays | DSA"
   ]
  },
  {
   "cell_type": "markdown",
   "id": "fd55e560-7234-4db4-9c0a-b40afe6d23a0",
   "metadata": {},
   "source": [
    "💡 **Q1.** Given an array of integers nums and an integer target, return indices of the two numbers such that they add up to target.\n",
    "You may assume that each input would have exactly one solution, and you may not use the same element twice.\n",
    "\n",
    "You can return the answer in any order.\n",
    "\n",
    "Example: Input: nums = [2,7,11,15], target = 9 Output0 [0,1]\n",
    "\n",
    "Explanation: Because nums[0] + nums[1] == 9, we return [0, 1]["
   ]
  },
  {
   "cell_type": "code",
   "execution_count": 2,
   "id": "e31de5fb-a42d-47a5-bf95-b2f252eebc78",
   "metadata": {},
   "outputs": [
    {
     "name": "stdin",
     "output_type": "stream",
     "text": [
      "Enter the value of the Targeted Value :  9\n"
     ]
    },
    {
     "name": "stdout",
     "output_type": "stream",
     "text": [
      "list[0, 1]\n"
     ]
    }
   ],
   "source": [
    "def target(arr):\n",
    "    target_value = int(input('Enter the value of the Targeted Value : '))\n",
    "    for i in range(len(arr)):\n",
    "        for j in range(len(arr)):\n",
    "            if arr[i] + arr[j] == target_value:\n",
    "                return list[i,j]\n",
    "            \n",
    "array = [2,7,11,15]\n",
    "print(target(array))"
   ]
  },
  {
   "cell_type": "markdown",
   "id": "6e032f3b-f8fe-4b44-965d-ee713c1fbb2b",
   "metadata": {},
   "source": [
    "💡 **Q2.** Given an integer array nums and an integer val, remove all occurrences of val in nums in-place. The order of the elements may be changed. Then return the number of elements in nums which are not equal to val.\n",
    "Consider the number of elements in nums which are not equal to val be k, to get accepted, you need to do the following things:\n",
    "\n",
    "Change the array nums such that the first k elements of nums contain the elements which are not equal to val. The remaining elements of nums are not important as well as the size of nums.\n",
    "Return k.\n",
    "Example : Input: nums = [3,2,2,3], val = 3 Output: 2, nums = [2,2,*,*]\n",
    "\n",
    "Explanation: Your function should return k = 2, with the first two elements of nums being 2. It does not matter what you leave beyond the returned k (hence they are underscores)["
   ]
  },
  {
   "cell_type": "code",
   "execution_count": 3,
   "id": "e6c39e50-03e1-48c5-b8a4-ac561586b9f6",
   "metadata": {},
   "outputs": [
    {
     "name": "stdout",
     "output_type": "stream",
     "text": [
      "k: 2\n",
      "Updated nums: [2, 2]\n"
     ]
    }
   ],
   "source": [
    "def remove_element(nums, val):\n",
    "    i = 0\n",
    "    j = len(nums) - 1\n",
    "    while i <= j:\n",
    "        if nums[i] == val:\n",
    "            nums[i] = nums[j]\n",
    "            j = j - 1\n",
    "        else:\n",
    "            i = i + 1\n",
    "\n",
    "    return i\n",
    "\n",
    "nums = [3, 2, 2, 3]\n",
    "val = 3\n",
    "\n",
    "k = remove_element(nums, val)\n",
    "print(\"k:\", k)\n",
    "print(\"Updated nums:\", nums[:k])"
   ]
  },
  {
   "cell_type": "markdown",
   "id": "816fc527-ee09-4c5f-a366-0e46a322eb1d",
   "metadata": {},
   "source": [
    "💡 **Q3.** Given a sorted array of distinct integers and a target value, return the index if the target is found. If not, return the index where it would be if it were inserted in order.\n",
    "You must write an algorithm with O(log n) runtime complexity.\n",
    "\n",
    "Example 1: Input: nums = [1,3,5,6], target = 5\n",
    "\n",
    "Output: 2"
   ]
  },
  {
   "cell_type": "code",
   "execution_count": 4,
   "id": "5d656dd5-39b0-41c0-9925-74095d1c67a5",
   "metadata": {},
   "outputs": [
    {
     "name": "stdin",
     "output_type": "stream",
     "text": [
      "Enter the value of the Targeted Value :  6\n"
     ]
    },
    {
     "name": "stdout",
     "output_type": "stream",
     "text": [
      "Index =  [3]\n"
     ]
    }
   ],
   "source": [
    "def distinct(arr,target):\n",
    "    for i in range(len(arr)):\n",
    "        if arr[i] == target:\n",
    "            return [i]\n",
    "    \n",
    "array = [1,3,5,6] \n",
    "target_value = int(input('Enter the value of the Targeted Value : '))\n",
    "print(\"Index = \",distinct(array,target_value))"
   ]
  },
  {
   "cell_type": "markdown",
   "id": "19de5203-b763-4ef7-8e7a-c4c15892f510",
   "metadata": {},
   "source": [
    "💡 **Q4.** You are given a large integer represented as an integer array digits, where each digits[i] is the ith digit of the integer. The digits are ordered from most significant to least significant in left-to-right order. The large integer does not contain any leading 0's.\n",
    "Increment the large integer by one and return the resulting array of digits.\n",
    "\n",
    "Example 1: Input: digits = [1,2,3] Output: [1,2,4]\n",
    "\n",
    "Explanation: The array represents the integer 123.\n",
    "\n",
    "Incrementing by one gives 123 + 1 = 124. Thus, the result should be [1,2,4]."
   ]
  },
  {
   "cell_type": "code",
   "execution_count": 5,
   "id": "ed23b555-fd41-4ec6-8d0c-a73e584246bd",
   "metadata": {},
   "outputs": [
    {
     "name": "stdout",
     "output_type": "stream",
     "text": [
      "[1, 2, 4]\n"
     ]
    }
   ],
   "source": [
    "def plusOne(digits):\n",
    "    digit_length = len(digits) \n",
    "    i = digit_length - 1 \n",
    "    while digits[i] == 9 and i >= 0:\n",
    "        i = i - 1\n",
    "        \n",
    "    if i == -1:\n",
    "        results = [0]*(digit_length + 1)\n",
    "        results[0] = 1\n",
    "        return results\n",
    "        \n",
    "    results = [0]*(digit_length) \n",
    "    results[i] = digits[i] + 1\n",
    "        \n",
    "    for j in range(i-1, -1, -1):\n",
    "        results[j] = digits[j]\n",
    "        \n",
    "    return results\n",
    "\n",
    "digits = [1,2,3]\n",
    "print(plusOne(digits))"
   ]
  },
  {
   "cell_type": "markdown",
   "id": "3f3096d2-20c4-4119-aad3-997911cd5446",
   "metadata": {},
   "source": [
    "💡 **Q5.** You are given two integer arrays nums1 and nums2, sorted in non-decreasing order, and two integers m and n, representing the number of elements in nums1 and nums2 respectively.\n",
    "Merge nums1 and nums2 into a single array sorted in non-decreasing order.\n",
    "\n",
    "The final sorted array should not be returned by the function, but instead be stored inside the array nums1. To accommodate this, nums1 has a length of m + n, where the first m elements denote the elements that should be merged, and the last n elements are set to 0 and should be ignored. nums2 has a length of n.\n",
    "\n",
    "Example 1: Input: nums1 = [1,2,3,0,0,0], m = 3, nums2 = [2,5,6], n = 3 Output: [1,2,2,3,5,6]\n",
    "\n",
    "Explanation: The arrays we are merging are [1,2,3] and [2,5,6]. The result of the merge is [1,2,2,3,5,6] with the underlined elements coming from nums1."
   ]
  },
  {
   "cell_type": "code",
   "execution_count": 6,
   "id": "516c71d0-dd7b-4500-a6dd-a04282440a11",
   "metadata": {},
   "outputs": [
    {
     "name": "stdout",
     "output_type": "stream",
     "text": [
      "[1, 2, 2, 3, 5, 6]\n"
     ]
    }
   ],
   "source": [
    "def sorted_array(num1,num2):\n",
    "    a=len(nums1)\n",
    "    i=0\n",
    "    j=0\n",
    "    while i< a:\n",
    "        if n  == 0 or m==0 :\n",
    "            return nums1\n",
    "        if nums1[i]==0:\n",
    "            nums1[i]=nums2[j]\n",
    "            j+=1\n",
    "        i+=1\n",
    "    return sorted(nums1)\n",
    "\n",
    "nums1 = [1,2,3,0,0,0]\n",
    "m = 3\n",
    "nums2 = [2,5,6]\n",
    "n = 3\n",
    "print(sorted_array(nums1,nums2))"
   ]
  },
  {
   "cell_type": "markdown",
   "id": "287c8399-0ebf-4dc0-b682-fb05789773a8",
   "metadata": {},
   "source": [
    "💡 **Q6.** Given an integer array nums, return true if any value appears at least twice in the array, and return false if every element is distinct.\n",
    "Example 1: Input: nums = [1,2,3,1]\n",
    "\n",
    "Output: true"
   ]
  },
  {
   "cell_type": "code",
   "execution_count": 7,
   "id": "93a703a8-09de-4194-a2ca-228a1656ebb9",
   "metadata": {},
   "outputs": [
    {
     "name": "stdout",
     "output_type": "stream",
     "text": [
      "True\n"
     ]
    }
   ],
   "source": [
    "def distinct_element(arr):\n",
    "    for i in range(len(arr)):\n",
    "        for j in range(i+1,len(arr)):\n",
    "             if arr[i] == arr[j]:\n",
    "                    return True\n",
    "    return False\n",
    "    \n",
    "array = [1,2,3,1]\n",
    "print(distinct_element(array))"
   ]
  },
  {
   "cell_type": "markdown",
   "id": "6c222711-46f5-47d0-a715-17b4c40512c3",
   "metadata": {},
   "source": [
    "💡 **Q7.** Given an integer array nums, move all 0's to the end of it while maintaining the relative order of the nonzero elements.\n",
    "Note that you must do this in-place without making a copy of the array.\n",
    "\n",
    "Example 1: Input: nums = [0,1,0,3,12] Output: [1,3,12,0,0]"
   ]
  },
  {
   "cell_type": "code",
   "execution_count": 8,
   "id": "4f68c43e-fd8e-4ea2-8832-0128c819524d",
   "metadata": {},
   "outputs": [
    {
     "name": "stdout",
     "output_type": "stream",
     "text": [
      "[1, 3, 12, 0, 0]\n"
     ]
    }
   ],
   "source": [
    "def Push_Zero_to_Last(arr):\n",
    "    \n",
    "    for i in range(len(arr)-1):\n",
    "        for j in range(len(arr)-1):\n",
    "            if arr[j] == 0:\n",
    "                arr[j],arr[j+1] =  arr[j + 1],arr[j]\n",
    "            \n",
    "    return arr\n",
    "    \n",
    "array = [0,1,0,3,12]\n",
    "print(Push_Zero_to_Last(array))"
   ]
  },
  {
   "cell_type": "markdown",
   "id": "b385ec0f-47e8-49be-a24c-20421f0bd97e",
   "metadata": {},
   "source": [
    "💡 **Q8.** You have a set of integers s, which originally contains all the numbers from 1 to n. Unfortunately, due to some error, one of the numbers in s got duplicated to another number in the set, which results in repetition of one number and loss of another number.\n",
    "You are given an integer array nums representing the data status of this set after the error.\n",
    "\n",
    "Find the number that occurs twice and the number that is missing and return them in the form of an array.\n",
    "\n",
    "Example 1: Input: nums = [1,2,2,4] Output: [2,3]\n",
    "\n"
   ]
  },
  {
   "cell_type": "code",
   "execution_count": null,
   "id": "9c09f09c-b19d-4301-b3be-3e86442f6268",
   "metadata": {},
   "outputs": [],
   "source": [
    "def repetion(arr):\n",
    "    repeat = 0\n",
    "    miss = 0\n",
    "    for i in range(len(arr)):\n",
    "        if i == len(arr)-1:\n",
    "            break\n",
    "        if arr[i] == arr[i+1]:\n",
    "            repeat = arr[i]\n",
    "        if arr[i+1] - arr[i]!= 1:\n",
    "            miss = i+1\n",
    "    \n",
    "    return [repeat,miss]\n",
    "\n",
    "array = [1,2,2,4]\n",
    "print(repetion(array))"
   ]
  }
 ],
 "metadata": {
  "kernelspec": {
   "display_name": "Python 3 (ipykernel)",
   "language": "python",
   "name": "python3"
  },
  "language_info": {
   "codemirror_mode": {
    "name": "ipython",
    "version": 3
   },
   "file_extension": ".py",
   "mimetype": "text/x-python",
   "name": "python",
   "nbconvert_exporter": "python",
   "pygments_lexer": "ipython3",
   "version": "3.10.6"
  }
 },
 "nbformat": 4,
 "nbformat_minor": 5
}
