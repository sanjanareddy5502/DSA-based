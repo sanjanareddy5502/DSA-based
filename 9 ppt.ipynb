{
 "cells": [
  {
   "cell_type": "markdown",
   "id": "02a28ad2-aa2e-4818-b8ab-2d3bfc1d54d3",
   "metadata": {},
   "source": [
    "💡 **Question 1**\n",
    "Given an integer n, return true if it is a power of two. Otherwise, return false.\n",
    "\n",
    "An integer n is a power of two, if there exists an integer x such that n == 2x.\n",
    "\n",
    "Example 1: Input: n = 1\n",
    "\n",
    "Output: true\n",
    "\n",
    "Example 2: Input: n = 16\n",
    "\n",
    "Output: true\n",
    "\n",
    "Example 3: Input: n = 3\n",
    "\n",
    "Output: false"
   ]
  },
  {
   "cell_type": "code",
   "execution_count": 1,
   "id": "c98a3c71-362d-4e78-b583-d81e1389ee6c",
   "metadata": {},
   "outputs": [
    {
     "name": "stdout",
     "output_type": "stream",
     "text": [
      "False\n"
     ]
    }
   ],
   "source": [
    "def isPowerOfFour(n: int) -> bool:\n",
    "    if (n == 1): return True\n",
    "    if (n < 1 or n % 2 != 0): return False\n",
    "    return isPowerOfFour(n // 2)\n",
    "\n",
    "print(isPowerOfFour(5))"
   ]
  },
  {
   "cell_type": "markdown",
   "id": "902f61ad-df64-4651-a810-38172920de55",
   "metadata": {},
   "source": [
    "💡 **Question 2**\n",
    "Given a number n, find the sum of the first natural numbers.\n",
    "\n",
    "Example 1:\n",
    "\n",
    "Input: n = 3\n",
    "\n",
    "Output: 6\n",
    "\n",
    "Example 2:\n",
    "\n",
    "Input : 5\n",
    "\n",
    "Output : 15"
   ]
  },
  {
   "cell_type": "code",
   "execution_count": 2,
   "id": "f3886012-7919-4bff-ad86-3b6d176ed470",
   "metadata": {},
   "outputs": [
    {
     "name": "stdout",
     "output_type": "stream",
     "text": [
      "15\n"
     ]
    }
   ],
   "source": [
    "def sumofNaturalNumber(n):\n",
    "    if n == 1 : return 1\n",
    "    return n + sumofNaturalNumber(n-1)\n",
    "\n",
    "print(sumofNaturalNumber(5))"
   ]
  },
  {
   "cell_type": "markdown",
   "id": "785b8855-6941-485d-a74b-8c3f931f0de0",
   "metadata": {},
   "source": [
    "💡 **Question 3**\n",
    "****Given a positive integer, N. Find the factorial of N.\n",
    "\n",
    "Example 1:\n",
    "\n",
    "Input: N = 5\n",
    "\n",
    "Output: 120\n",
    "\n",
    "Example 2:\n",
    "\n",
    "Input: N = 4\n",
    "\n",
    "Output: 24"
   ]
  },
  {
   "cell_type": "code",
   "execution_count": 3,
   "id": "65fc1a20-5488-40b1-b008-4cad18a95e46",
   "metadata": {},
   "outputs": [
    {
     "name": "stdout",
     "output_type": "stream",
     "text": [
      "24\n"
     ]
    }
   ],
   "source": [
    "def factorial(n):\n",
    "    if (n == 1 or  n==0) : return 1\n",
    "    return n * factorial(n-1)\n",
    "\n",
    "print(factorial(4))"
   ]
  },
  {
   "cell_type": "markdown",
   "id": "03b7f8b1-0542-456e-bc3b-41a1ea9a4932",
   "metadata": {},
   "source": [
    "💡 **Question 4**\n",
    "Given a number N and a power P, the task is to find the exponent of this number raised to the given power, i.e. N^P.\n",
    "\n",
    "Example 1 :\n",
    "\n",
    "Input: N = 5, P = 2\n",
    "\n",
    "Output: 25\n",
    "\n",
    "Example 2 : Input: N = 2, P = 5\n",
    "\n",
    "Output: 32"
   ]
  },
  {
   "cell_type": "code",
   "execution_count": 4,
   "id": "28c00cfb-6cf0-4176-9016-d486622317c3",
   "metadata": {},
   "outputs": [
    {
     "name": "stdout",
     "output_type": "stream",
     "text": [
      "8\n"
     ]
    }
   ],
   "source": [
    "def find_exponent(N, P):\n",
    "    if P == 0:\n",
    "        return 1\n",
    "    elif P < 0:\n",
    "        return 1 / find_exponent(N, -P)\n",
    "    elif P % 2 == 0:\n",
    "        temp = find_exponent(N, P // 2)\n",
    "        return temp * temp\n",
    "    else:\n",
    "        return N * find_exponent(N, P - 1)\n",
    "\n",
    "number = 2\n",
    "power = 3\n",
    "exponent = find_exponent(number, power)\n",
    "print(exponent)"
   ]
  },
  {
   "cell_type": "markdown",
   "id": "1afe458b-264d-42da-b4b5-eff7c1701909",
   "metadata": {},
   "source": [
    "💡 **Question 5**\n",
    "Given an array of integers arr, the task is to find maximum element of that array using recursion.\n",
    "\n",
    "Example 1:\n",
    "\n",
    "Input: arr = {1, 4, 3, -5, -4, 8, 6}; Output: 8\n",
    "\n",
    "Example 2:\n",
    "\n",
    "Input: arr = {1, 4, 45, 6, 10, -8}; Output: 45"
   ]
  },
  {
   "cell_type": "code",
   "execution_count": 5,
   "id": "fb56ce57-2880-48c8-9586-8ff6c04d1590",
   "metadata": {},
   "outputs": [
    {
     "name": "stdout",
     "output_type": "stream",
     "text": [
      "23\n"
     ]
    }
   ],
   "source": [
    "def find_max(arr, n):\n",
    "    if n == 1:\n",
    "        return arr[0]\n",
    "    else:\n",
    "        max_rest = find_max(arr[1:], n - 1)\n",
    "        return max(arr[0], max_rest)\n",
    "\n",
    "\n",
    "array = [10, 7, 23, 4, 18]\n",
    "max_element = find_max(array, len(array))\n",
    "print(max_element)"
   ]
  },
  {
   "cell_type": "markdown",
   "id": "13496f00-45f3-4385-bbca-954c1216639a",
   "metadata": {},
   "source": [
    "💡 **Question 6**\n",
    "Given first term (a), common difference (d) and a integer N of the Arithmetic Progression series, the task is to find Nth term of the series.\n",
    "\n",
    "Example 1:\n",
    "\n",
    "Input : a = 2 d = 1 N = 5 Output : 6 The 5th term of the series is : 6\n",
    "\n",
    "Example 2:\n",
    "\n",
    "Input : a = 5 d = 2 N = 10 Output : 23 The 10th term of the series is : 23"
   ]
  },
  {
   "cell_type": "code",
   "execution_count": 6,
   "id": "4c6fcda8-a373-4387-b91b-0ffcb0cad3b0",
   "metadata": {},
   "outputs": [
    {
     "name": "stdout",
     "output_type": "stream",
     "text": [
      "23\n"
     ]
    }
   ],
   "source": [
    "def find_nth_term(a, d, N):\n",
    "    if N == 1:\n",
    "        return a\n",
    "    else:\n",
    "        return find_nth_term(a + d, d, N - 1)\n",
    "\n",
    "first_term = 5\n",
    "common_difference = 2\n",
    "N = 10\n",
    "nth_term = find_nth_term(first_term, common_difference, N)\n",
    "print(nth_term)"
   ]
  },
  {
   "cell_type": "markdown",
   "id": "8f198f56-2dc6-42d5-882b-b48fe3803084",
   "metadata": {},
   "source": [
    "💡 **Question 7**\n",
    "Given a string S, the task is to write a program to print all permutations of a given string.\n",
    "\n",
    "Example 1:\n",
    "\n",
    "*Input:*\n",
    "\n",
    "S = “ABC”\n",
    "\n",
    "*Output:*\n",
    "\n",
    "“ABC”, “ACB”, “BAC”, “BCA”, “CBA”, “CAB”\n",
    "\n",
    "Example 2:\n",
    "\n",
    "*Input:*\n",
    "\n",
    "S = “XY”\n",
    "\n",
    "*Output:*\n",
    "\n",
    "“XY”, “YX”"
   ]
  },
  {
   "cell_type": "code",
   "execution_count": 7,
   "id": "03311d61-d1e6-4813-aa42-0dd8f90ac469",
   "metadata": {},
   "outputs": [
    {
     "name": "stdout",
     "output_type": "stream",
     "text": [
      "ABC\n",
      "ACB\n",
      "BAC\n",
      "BCA\n",
      "CAB\n",
      "CBA\n"
     ]
    }
   ],
   "source": [
    "def permute_string(string, current_permutation):\n",
    "    if len(string) == 0:\n",
    "        print(current_permutation)\n",
    "\n",
    "    for i in range(len(string)):\n",
    "        chosen_char = string[i]\n",
    "\n",
    "        remaining_chars = string[:i] + string[i+1:]\n",
    "\n",
    "        permute_string(remaining_chars, current_permutation + chosen_char)\n",
    "\n",
    "input_string = \"ABC\"\n",
    "permute_string(input_string, \"\")"
   ]
  },
  {
   "cell_type": "markdown",
   "id": "752db473-fa5a-44c7-bb76-4c36285bfb42",
   "metadata": {},
   "source": [
    "💡 **Question 8**\n",
    "Given an array, find a product of all array elements.\n",
    "\n",
    "Example 1:\n",
    "\n",
    "Input : arr[] = {1, 2, 3, 4, 5} Output : 120 Example 2:\n",
    "\n",
    "Input : arr[] = {1, 6, 3} Output : 18"
   ]
  },
  {
   "cell_type": "code",
   "execution_count": 8,
   "id": "7f7fa88f-efef-4240-81cb-740051c4cb96",
   "metadata": {},
   "outputs": [
    {
     "name": "stdout",
     "output_type": "stream",
     "text": [
      "120\n"
     ]
    }
   ],
   "source": [
    "def find_product(arr, n):\n",
    "    if n == 0:\n",
    "        return 1\n",
    "    else:\n",
    "        return arr[0] * find_product(arr[1:], n - 1)\n",
    "\n",
    "array = [2, 3, 4, 5]\n",
    "product = find_product(array, len(array))\n",
    "print(product)"
   ]
  },
  {
   "cell_type": "code",
   "execution_count": null,
   "id": "b66b9893-391a-4f95-a73e-8f0cd6edf3dc",
   "metadata": {},
   "outputs": [],
   "source": []
  }
 ],
 "metadata": {
  "kernelspec": {
   "display_name": "Python 3 (ipykernel)",
   "language": "python",
   "name": "python3"
  },
  "language_info": {
   "codemirror_mode": {
    "name": "ipython",
    "version": 3
   },
   "file_extension": ".py",
   "mimetype": "text/x-python",
   "name": "python",
   "nbconvert_exporter": "python",
   "pygments_lexer": "ipython3",
   "version": "3.10.6"
  }
 },
 "nbformat": 4,
 "nbformat_minor": 5
}
