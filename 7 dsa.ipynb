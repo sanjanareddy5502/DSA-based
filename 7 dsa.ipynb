{
 "cells": [
  {
   "cell_type": "markdown",
   "id": "4e8435ec-8e90-4b80-9a8f-cac40b3bbb0c",
   "metadata": {},
   "source": [
    "Q1. Given two strings s and t, determine if they are isomorphic.\n",
    "\n",
    "Two strings s and t are isomorphic if the characters in s can be replaced to get t.\n",
    "\n",
    "All occurrences of a character must be replaced with another character while preserving the order of characters. No two characters may map to the same character, but a character may map to itself.\n",
    "\n",
    "Example 1:\n",
    "\n",
    "Input: s = \"egg\", t = \"add\"\n",
    "\n",
    "Output: true"
   ]
  },
  {
   "cell_type": "code",
   "execution_count": 1,
   "id": "32210558-5261-4009-b7be-4181aca1b52f",
   "metadata": {},
   "outputs": [],
   "source": [
    "def is_isomorphic(s, t):\n",
    "    if len(s) != len(t):\n",
    "        return False\n",
    "    \n",
    "    s_to_t = {}\n",
    "    t_to_s = {}\n",
    "    \n",
    "    for c1, c2 in zip(s, t):\n",
    "        if c1 not in s_to_t and c2 not in t_to_s:\n",
    "            s_to_t[c1] = c2\n",
    "            t_to_s[c2] = c1\n",
    "        elif c1 in s_to_t and c2 in t_to_s:\n",
    "            if s_to_t[c1] != c2 or t_to_s[c2] != c1:\n",
    "                return False\n",
    "        else:\n",
    "            return False\n",
    "    \n",
    "    return True"
   ]
  },
  {
   "cell_type": "code",
   "execution_count": 2,
   "id": "540b9afb-d657-48ec-bb5b-9315c0c5e9e2",
   "metadata": {},
   "outputs": [
    {
     "name": "stdout",
     "output_type": "stream",
     "text": [
      "True\n"
     ]
    }
   ],
   "source": [
    "s = \"egg\"\n",
    "t = \"add\"\n",
    "print(is_isomorphic(s, t))"
   ]
  },
  {
   "cell_type": "markdown",
   "id": "5637bfd8-f993-4f25-b892-dd369721f4ca",
   "metadata": {},
   "source": [
    "Q2. Given a string num which represents an integer, return true if num is a strobogrammatic number**.\n",
    "\n",
    "A strobogrammatic number is a number that looks the same when rotated 180 degrees (looked at upside down).\n",
    "\n",
    "Example 1:\n",
    "\n",
    "Input: num = \"69\"\n",
    "\n",
    "Output:\n",
    "\n",
    "true"
   ]
  },
  {
   "cell_type": "code",
   "execution_count": 3,
   "id": "84852816-146b-479f-9918-b6114e292304",
   "metadata": {},
   "outputs": [],
   "source": [
    "def is_strobogrammatic(num):\n",
    "    pairs = {'0': '0', '1': '1', '6': '9', '8': '8', '9': '6'}\n",
    "    left, right = 0, len(num) - 1\n",
    "    \n",
    "    while left <= right:\n",
    "        if num[left] not in pairs or num[right] not in pairs or pairs[num[left]] != num[right]:\n",
    "            return False\n",
    "        left += 1\n",
    "        right -= 1\n",
    "    \n",
    "    return True"
   ]
  },
  {
   "cell_type": "code",
   "execution_count": 4,
   "id": "937618cd-9436-44ab-aba5-f6efe5d3bcf7",
   "metadata": {},
   "outputs": [
    {
     "name": "stdout",
     "output_type": "stream",
     "text": [
      "True\n"
     ]
    }
   ],
   "source": [
    "num = \"69\"\n",
    "print(is_strobogrammatic(num))"
   ]
  },
  {
   "cell_type": "markdown",
   "id": "871e418a-ed1f-4f29-9bc9-cf61e9b04215",
   "metadata": {},
   "source": [
    "Q3. Given two non-negative integers, num1 and num2 represented as string, return the sum of num1 and num2 as a string.\n",
    "\n",
    "You must solve the problem without using any built-in library for handling large integers (such as BigInteger). You must also not convert the inputs to integers directly.\n",
    "\n",
    "Example 1:\n",
    "\n",
    "Input: num1 = \"11\", num2 = \"123\"\n",
    "\n",
    "Output:\n",
    "\n",
    "\"134\""
   ]
  },
  {
   "cell_type": "code",
   "execution_count": 6,
   "id": "43843f4b-e2af-40c1-96e1-8d15ef7d8fdd",
   "metadata": {},
   "outputs": [],
   "source": [
    "def add_strings(num1, num2):\n",
    "    result = \"\"\n",
    "    i = len(num1) - 1\n",
    "    j = len(num2) - 1\n",
    "    carry = 0\n",
    "    \n",
    "    while i >= 0 or j >= 0 or carry != 0:\n",
    "        if i >= 0:\n",
    "            carry += int(num1[i])\n",
    "            i -= 1\n",
    "        if j >= 0:\n",
    "            carry += int(num2[j])\n",
    "            j -= 1\n",
    "        result = str(carry % 10) + result\n",
    "        carry //= 10\n",
    "        return result\n",
    "\n",
    "    "
   ]
  },
  {
   "cell_type": "code",
   "execution_count": 7,
   "id": "79195a04-7837-4a45-ac95-66eda5e625b9",
   "metadata": {},
   "outputs": [
    {
     "name": "stdout",
     "output_type": "stream",
     "text": [
      "4\n"
     ]
    }
   ],
   "source": [
    "\n",
    "num1 = \"11\"\n",
    "num2 = \"123\"\n",
    "print(add_strings(num1, num2))"
   ]
  },
  {
   "cell_type": "markdown",
   "id": "5ea5137e-ab3b-44e2-8c50-f8149e380cf6",
   "metadata": {},
   "source": [
    "Q4. Given a string s, reverse the order of characters in each word within a sentence while still preserving whitespace and initial word order.\n",
    "\n",
    "Example 1:\n",
    "\n",
    "Input: s = \"Let's take LeetCode contest\"\n",
    "\n",
    "Output: \"s'teL ekat edoCteeL tsetnoc\""
   ]
  },
  {
   "cell_type": "code",
   "execution_count": 9,
   "id": "81858cc2-d246-485d-a0c1-8e4d207ac7b2",
   "metadata": {},
   "outputs": [],
   "source": [
    "def reverse_words(s):\n",
    "    words = s.split()\n",
    "    reversed_words = [word[::-1] for word in words]\n",
    "    return ' '.join(reversed_words)\n",
    "\n",
    "\n",
    "\n"
   ]
  },
  {
   "cell_type": "code",
   "execution_count": 10,
   "id": "74263eba-dfa9-4c9f-8d8c-f07abff31cac",
   "metadata": {},
   "outputs": [
    {
     "name": "stdout",
     "output_type": "stream",
     "text": [
      "s'teL ekat edoCteeL tsetnoc\n"
     ]
    }
   ],
   "source": [
    "s = \"Let's take LeetCode contest\"\n",
    "print(reverse_words(s))"
   ]
  },
  {
   "cell_type": "markdown",
   "id": "1ed34b49-28bf-48d7-a843-cbc3a4f0e642",
   "metadata": {},
   "source": [
    "Q6. Given two strings s and goal, return true if and only if s can become goal after some number of shifts* on* s.\n",
    "\n",
    "A shift on s consists of moving the leftmost character of s to the rightmost position.\n",
    "\n",
    "For example, if s = \"abcde\", then it will be \"bcdea\" after one shift.\n",
    "Example 1:\n",
    "\n",
    "Input: s = \"abcde\", goal = \"cdeab\"\n",
    "\n",
    "Output:\n",
    "\n",
    "true"
   ]
  },
  {
   "cell_type": "code",
   "execution_count": 11,
   "id": "e19761e1-f703-474e-aff9-839d6d3443cc",
   "metadata": {},
   "outputs": [],
   "source": [
    "def can_shift(s, goal):\n",
    "    if len(s) != len(goal):\n",
    "        return False\n",
    "    \n",
    "    concat = s + s\n",
    "    return goal in concat\n"
   ]
  },
  {
   "cell_type": "code",
   "execution_count": 12,
   "id": "b8fa9567-9d21-43c1-8619-9a25cf10ac59",
   "metadata": {},
   "outputs": [
    {
     "name": "stdout",
     "output_type": "stream",
     "text": [
      "True\n"
     ]
    }
   ],
   "source": [
    "s = \"abcde\"\n",
    "goal = \"cdeab\"\n",
    "print(can_shift(s, goal))"
   ]
  },
  {
   "cell_type": "markdown",
   "id": "f3f86f0e-0057-4396-96b2-d52faaa4c647",
   "metadata": {},
   "source": [
    "Q7. Given two strings s and t, return true if they are equal when both are typed into empty text editors. '#' means a backspace character.\n",
    "\n",
    "Note that after backspacing an empty text, the text will continue empty.\n",
    "\n",
    "Example 1:\n",
    "\n",
    "Input: s = \"ab#c\", t = \"ad#c\"\n",
    "\n",
    "Output: true\n",
    "\n",
    "Explanation:\n",
    "\n",
    "Both s and t become \"ac\".\n",
    "\n"
   ]
  },
  {
   "cell_type": "code",
   "execution_count": 13,
   "id": "bc0e6047-5e9e-49da-b26a-86f03cb7de19",
   "metadata": {},
   "outputs": [],
   "source": [
    "def process_string(string):\n",
    "    processed = []\n",
    "    for char in string:\n",
    "        if char != '#':\n",
    "            processed.append(char)\n",
    "        elif processed:\n",
    "            processed.pop()\n",
    "    return ''.join(processed)\n",
    "\n",
    "def backspace_compare(s, t):\n",
    "    processed_s = process_string(s)\n",
    "    processed_t = process_string(t)\n",
    "    return processed_s == processed_t\n"
   ]
  },
  {
   "cell_type": "code",
   "execution_count": 14,
   "id": "9ee86cd2-c4b2-4113-a2a8-f58463a70e0f",
   "metadata": {},
   "outputs": [
    {
     "name": "stdout",
     "output_type": "stream",
     "text": [
      "True\n"
     ]
    }
   ],
   "source": [
    "s = \"ab#c\"\n",
    "t = \"ad#c\"\n",
    "print(backspace_compare(s, t))"
   ]
  },
  {
   "cell_type": "markdown",
   "id": "96e076f4-d2ce-4f30-b1fd-5e8749f879e2",
   "metadata": {},
   "source": [
    "Q8. You are given an array coordinates, coordinates[i] = [x, y], where [x, y] represents the coordinate of a point. Check if these points make a straight line in the XY plane."
   ]
  },
  {
   "cell_type": "code",
   "execution_count": 15,
   "id": "286f0ae5-4dbb-4599-aad0-92c50a95a91c",
   "metadata": {},
   "outputs": [
    {
     "name": "stdout",
     "output_type": "stream",
     "text": [
      "true\n"
     ]
    }
   ],
   "source": [
    "def checkStraightLine(coordinates):\n",
    "    if len(coordinates) == 2:\n",
    "        return True\n",
    "    x0, x1 = coordinates[0][0], coordinates[1][0]\n",
    "    y0, y1 = coordinates[0][1], coordinates[1][1]\n",
    "    dx = x1 - x0\n",
    "    dy = y1 - y0\n",
    "    for i in range(2, len(coordinates)):\n",
    "        x = coordinates[i][0]\n",
    "        y = coordinates[i][1]\n",
    "        if dy * (x - x0) != dx * (y - y0):\n",
    "            return False\n",
    "    return True\n",
    "\n",
    "coordinates = [[1, 2], [2, 3], [3, 4], [4, 5], [5, 6], [6,7]]\n",
    "print(\"true\" if checkStraightLine(coordinates) else \"false\")"
   ]
  },
  {
   "cell_type": "code",
   "execution_count": null,
   "id": "ffa13a84-7118-4027-9117-bb7e12afab7e",
   "metadata": {},
   "outputs": [],
   "source": []
  }
 ],
 "metadata": {
  "kernelspec": {
   "display_name": "Python 3 (ipykernel)",
   "language": "python",
   "name": "python3"
  },
  "language_info": {
   "codemirror_mode": {
    "name": "ipython",
    "version": 3
   },
   "file_extension": ".py",
   "mimetype": "text/x-python",
   "name": "python",
   "nbconvert_exporter": "python",
   "pygments_lexer": "ipython3",
   "version": "3.10.6"
  }
 },
 "nbformat": 4,
 "nbformat_minor": 5
}
