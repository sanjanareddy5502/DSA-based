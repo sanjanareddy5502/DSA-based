{
  "nbformat": 4,
  "nbformat_minor": 0,
  "metadata": {
    "colab": {
      "provenance": [],
      "include_colab_link": true
    },
    "kernelspec": {
      "name": "python3",
      "display_name": "Python 3"
    },
    "language_info": {
      "name": "python"
    }
  },
  "cells": [
    {
      "cell_type": "markdown",
      "metadata": {
        "id": "view-in-github",
        "colab_type": "text"
      },
      "source": [
        "<a href=\"https://colab.research.google.com/github/sanjanareddy5502/DSA-based/blob/main/Copy_of_Assignment_13_Linked_List.ipynb\" target=\"_parent\"><img src=\"https://colab.research.google.com/assets/colab-badge.svg\" alt=\"Open In Colab\"/></a>"
      ]
    },
    {
      "cell_type": "markdown",
      "source": [
        "Question 1"
      ],
      "metadata": {
        "id": "10p7NM1_aDX9"
      }
    },
    {
      "cell_type": "code",
      "execution_count": null,
      "metadata": {
        "id": "5CfCKu9jaCMX"
      },
      "outputs": [],
      "source": [
        "class Node:\n",
        "    def __init__(self, value):\n",
        "        self.data = value\n",
        "        self.next = None\n",
        "\n",
        "def create_new_linked_list(list1, list2):\n",
        "    new_list = None\n",
        "    tail = None\n",
        "\n",
        "    while list1 is not None and list2 is not None:\n",
        "        if list1.data > list2.data:\n",
        "            node = Node(list1.data)\n",
        "            list1 = list1.next\n",
        "        else:\n",
        "            node = Node(list2.data)\n",
        "            list2 = list2.next\n",
        "\n",
        "        if new_list is None:\n",
        "            new_list = node\n",
        "            tail = node\n",
        "        else:\n",
        "            tail.next = node\n",
        "            tail = tail.next\n",
        "\n",
        "    while list1 is not None:\n",
        "        node = Node(list1.data)\n",
        "        tail.next = node\n",
        "        tail = tail.next\n",
        "        list1 = list1.next\n",
        "\n",
        "    while list2 is not None:\n",
        "        node = Node(list2.data)\n",
        "        tail.next = node\n",
        "        tail = tail.next\n",
        "        list2 = list2.next\n",
        "\n",
        "    return new_list\n"
      ]
    },
    {
      "cell_type": "code",
      "source": [
        "list1 = Node(5)\n",
        "list1.next = Node(2)\n",
        "list1.next.next = Node(3)\n",
        "list1.next.next.next = Node(8)\n",
        "\n",
        "list2 = Node(1)\n",
        "list2.next = Node(7)\n",
        "list2.next.next = Node(4)\n",
        "list2.next.next.next = Node(5)\n",
        "\n",
        "new_list = create_new_linked_list(list1, list2)\n",
        "print(\"New list:\", end=\" \")\n",
        "while new_list is not None:\n",
        "    print(new_list.data, end=\" \")\n",
        "    new_list = new_list.next"
      ],
      "metadata": {
        "colab": {
          "base_uri": "https://localhost:8080/"
        },
        "id": "6YCLu5LmHYyB",
        "outputId": "0784de2a-f6e8-44f4-a99a-062ae955d504"
      },
      "execution_count": null,
      "outputs": [
        {
          "output_type": "stream",
          "name": "stdout",
          "text": [
            "New list: 5 2 3 8 1 7 4 5 "
          ]
        }
      ]
    },
    {
      "cell_type": "markdown",
      "source": [
        "Question 2"
      ],
      "metadata": {
        "id": "UMmGz9SaaEnw"
      }
    },
    {
      "cell_type": "code",
      "source": [
        "class Node:\n",
        "    def __init__(self, value):\n",
        "        self.data = value\n",
        "        self.next = None\n",
        "\n",
        "def remove_duplicates(head):\n",
        "    current = head\n",
        "\n",
        "    while current is not None and current.next is not None:\n",
        "        if current.data == current.next.data:\n",
        "            current.next = current.next.next\n",
        "        else:\n",
        "            current = current.next\n",
        "\n",
        "    return head\n",
        "\n"
      ],
      "metadata": {
        "id": "DCGPTU7RaE59"
      },
      "execution_count": null,
      "outputs": []
    },
    {
      "cell_type": "code",
      "source": [
        "# Create the linked list\n",
        "head = Node(11)\n",
        "head.next = Node(11)\n",
        "head.next.next = Node(11)\n",
        "head.next.next.next = Node(21)\n",
        "head.next.next.next.next = Node(43)\n",
        "head.next.next.next.next.next = Node(43)\n",
        "head.next.next.next.next.next.next = Node(60)\n",
        "\n",
        "# Remove duplicates\n",
        "new_head = remove_duplicates(head)\n",
        "\n",
        "# Print the updated list\n",
        "print(\"Updated list:\", end=\" \")\n",
        "current = new_head\n",
        "while current is not None:\n",
        "    print(current.data, end=\" \")\n",
        "    current = current.next\n"
      ],
      "metadata": {
        "colab": {
          "base_uri": "https://localhost:8080/"
        },
        "id": "tjNRzgbNHjMv",
        "outputId": "f5f136eb-55cf-4bba-f899-58adf323482f"
      },
      "execution_count": null,
      "outputs": [
        {
          "output_type": "stream",
          "name": "stdout",
          "text": [
            "Updated list: 11 21 43 60 "
          ]
        }
      ]
    },
    {
      "cell_type": "markdown",
      "source": [
        "Question 3"
      ],
      "metadata": {
        "id": "FmwodM5NaE_n"
      }
    },
    {
      "cell_type": "code",
      "source": [
        "class Node:\n",
        "    def __init__(self, value):\n",
        "        self.data = value\n",
        "        self.next = None\n",
        "\n",
        "def reverse_k_nodes(head, k):\n",
        "    current = head\n",
        "    next = None\n",
        "    prev = None\n",
        "    count = 0\n",
        "\n",
        "    # Reverse k nodes\n",
        "    while current is not None and count < k:\n",
        "        next = current.next\n",
        "        current.next = prev\n",
        "        prev = current\n",
        "        current = next\n",
        "        count += 1\n",
        "\n",
        "    # Recursively reverse the remaining list\n",
        "    if next is not None:\n",
        "        head.next = reverse_k_nodes(next, k)\n",
        "\n",
        "    return prev\n",
        "\n"
      ],
      "metadata": {
        "id": "dQEJ7lV4aFES"
      },
      "execution_count": null,
      "outputs": []
    },
    {
      "cell_type": "code",
      "source": [
        "# Create the linked list\n",
        "head = Node(1)\n",
        "head.next = Node(2)\n",
        "head.next.next = Node(2)\n",
        "head.next.next.next = Node(4)\n",
        "head.next.next.next.next = Node(5)\n",
        "head.next.next.next.next.next = Node(6)\n",
        "head.next.next.next.next.next.next = Node(7)\n",
        "head.next.next.next.next.next.next.next = Node(8)\n",
        "\n",
        "# Reverse every k nodes\n",
        "k = 4\n",
        "new_head = reverse_k_nodes(head, k)\n",
        "\n",
        "# Print the reversed list\n",
        "print(\"Reversed list:\", end=\" \")\n",
        "current = new_head\n",
        "while current is not None:\n",
        "    print(current.data, end=\" \")\n",
        "    current = current.next\n"
      ],
      "metadata": {
        "colab": {
          "base_uri": "https://localhost:8080/"
        },
        "id": "H_QJF2xoHwVu",
        "outputId": "4e53d5e0-0ad5-4e96-d5d1-89614402a04b"
      },
      "execution_count": null,
      "outputs": [
        {
          "output_type": "stream",
          "name": "stdout",
          "text": [
            "Reversed list: 4 2 2 1 8 7 6 5 "
          ]
        }
      ]
    },
    {
      "cell_type": "markdown",
      "source": [
        "Question 4"
      ],
      "metadata": {
        "id": "JQAugKhraFIz"
      }
    },
    {
      "cell_type": "code",
      "source": [
        "class Node:\n",
        "    def __init__(self, value):\n",
        "        self.data = value\n",
        "        self.next = None\n",
        "\n",
        "def reverse_alternate_k_nodes(head, k):\n",
        "    current = head\n",
        "    next = None\n",
        "    prev = None\n",
        "    count = 0\n",
        "\n",
        "    # Reverse k nodes\n",
        "    while current is not None and count < k:\n",
        "        next = current.next\n",
        "        current.next = prev\n",
        "        prev = current\n",
        "        current = next\n",
        "        count += 1\n",
        "\n",
        "    # Update the pointers of previous and next groups\n",
        "    if next is not None:\n",
        "        head.next = next\n",
        "\n",
        "    # Skip k nodes of the next group\n",
        "    count = 0\n",
        "    while count < k - 1 and next is not None:\n",
        "        next = next.next\n",
        "        count += 1\n",
        "\n",
        "    # Recursively reverse the alternate groups\n",
        "    if next is not None:\n",
        "        next.next = reverse_alternate_k_nodes(next.next, k)\n",
        "\n",
        "    return prev\n"
      ],
      "metadata": {
        "id": "D-gdTsL_aFP_"
      },
      "execution_count": null,
      "outputs": []
    },
    {
      "cell_type": "code",
      "source": [
        "# Create the linked list\n",
        "head = Node(1)\n",
        "head.next = Node(2)\n",
        "head.next.next = Node(3)\n",
        "head.next.next.next = Node(4)\n",
        "head.next.next.next.next = Node(5)\n",
        "head.next.next.next.next.next = Node(6)\n",
        "head.next.next.next.next.next.next = Node(7)\n",
        "head.next.next.next.next.next.next.next = Node(8)\n",
        "head.next.next.next.next.next.next.next.next = Node(9)\n",
        "\n",
        "# Reverse every alternate k nodes\n",
        "k = 3\n",
        "new_head = reverse_alternate_k_nodes(head, k)\n",
        "\n",
        "# Print the modified list\n",
        "print(\"Modified list:\", end=\" \")\n",
        "current = new_head\n",
        "while current is not None:\n",
        "    print(current.data, end=\" \")\n",
        "    current = current.next\n"
      ],
      "metadata": {
        "colab": {
          "base_uri": "https://localhost:8080/"
        },
        "id": "TVc1PGXjH4Ck",
        "outputId": "311c6137-60b7-427d-f698-a80cf4e3952f"
      },
      "execution_count": null,
      "outputs": [
        {
          "output_type": "stream",
          "name": "stdout",
          "text": [
            "Modified list: 3 2 1 4 5 6 9 8 7 "
          ]
        }
      ]
    },
    {
      "cell_type": "markdown",
      "source": [
        "Question 5"
      ],
      "metadata": {
        "id": "-nutekDqaFVt"
      }
    },
    {
      "cell_type": "code",
      "source": [
        "class Node:\n",
        "    def __init__(self, value):\n",
        "        self.data = value\n",
        "        self.next = None\n",
        "\n",
        "def delete_last_occurrence(head, key):\n",
        "    if head is None:\n",
        "        return head\n",
        "\n",
        "    last_occurrence = None\n",
        "    prev_last_occurrence = None\n",
        "    current = head\n",
        "    prev = None\n",
        "\n",
        "    # Traverse the list to find the last occurrence of the key\n",
        "    while current is not None:\n",
        "        if current.data == key:\n",
        "            last_occurrence = current\n",
        "            prev_last_occurrence = prev\n",
        "        prev = current\n",
        "        current = current.next\n",
        "\n",
        "    # If last occurrence is found, remove the node\n",
        "    if last_occurrence is not None:\n",
        "        if prev_last_occurrence is None:\n",
        "            # Last occurrence is the head, update the head\n",
        "            head = head.next\n",
        "        else:\n",
        "            # Update the next pointer of the previous node\n",
        "            prev_last_occurrence.next = last_occurrence.next\n",
        "\n",
        "    return head\n"
      ],
      "metadata": {
        "id": "_JLssPIzaFa_"
      },
      "execution_count": null,
      "outputs": []
    },
    {
      "cell_type": "code",
      "source": [
        "# Create the linked list\n",
        "head = Node(1)\n",
        "head.next = Node(2)\n",
        "head.next.next = Node(3)\n",
        "head.next.next.next = Node(5)\n",
        "head.next.next.next.next = Node(2)\n",
        "head.next.next.next.next.next = Node(10)\n",
        "\n",
        "# Delete the last occurrence of key\n",
        "key = 2\n",
        "new_head = delete_last_occurrence(head, key)\n",
        "\n",
        "# Print the modified list\n",
        "print(\"Modified list:\", end=\" \")\n",
        "current = new_head\n",
        "while current is not None:\n",
        "    print(current.data, end=\" \")\n",
        "    current = current.next\n"
      ],
      "metadata": {
        "colab": {
          "base_uri": "https://localhost:8080/"
        },
        "id": "Y8ZC-eNFH-69",
        "outputId": "25e96cb0-67fb-41b7-a4c9-4d30c292fc13"
      },
      "execution_count": null,
      "outputs": [
        {
          "output_type": "stream",
          "name": "stdout",
          "text": [
            "Modified list: 1 2 3 5 10 "
          ]
        }
      ]
    },
    {
      "cell_type": "markdown",
      "source": [
        "Question 6\n",
        "\n"
      ],
      "metadata": {
        "id": "NrsqmI37aFfn"
      }
    },
    {
      "cell_type": "code",
      "source": [
        "class Node:\n",
        "    def __init__(self, value):\n",
        "        self.data = value\n",
        "        self.next = None\n",
        "\n",
        "def merge_sorted_lists(head1, head2):\n",
        "    # Create a dummy node and a tail node\n",
        "    dummy = Node(None)\n",
        "    tail = dummy\n",
        "\n",
        "    while head1 is not None and head2 is not None:\n",
        "        if head1.data <= head2.data:\n",
        "            tail.next = head1\n",
        "            head1 = head1.next\n",
        "        else:\n",
        "            tail.next = head2\n",
        "            head2 = head2.next\n",
        "        tail = tail.next\n",
        "\n",
        "    # Append remaining nodes of list1 or list2\n",
        "    if head1 is not None:\n",
        "        tail.next = head1\n",
        "    elif head2 is not None:\n",
        "        tail.next = head2\n",
        "\n",
        "    return dummy.next\n"
      ],
      "metadata": {
        "id": "Ue-PJ1HUaFk4"
      },
      "execution_count": null,
      "outputs": []
    },
    {
      "cell_type": "code",
      "source": [
        "# Create the first sorted list\n",
        "a = Node(5)\n",
        "a.next = Node(10)\n",
        "a.next.next = Node(15)\n",
        "\n",
        "# Create the second sorted list\n",
        "b = Node(2)\n",
        "b.next = Node(3)\n",
        "b.next.next = Node(20)\n",
        "\n",
        "# Merge the two sorted lists\n",
        "merged_head = merge_sorted_lists(a, b)\n",
        "\n",
        "# Print the merged list\n",
        "print(\"Merged list:\", end=\" \")\n",
        "current = merged_head\n",
        "while current is not None:\n",
        "    print(current.data, end=\" \")\n",
        "    current = current.next\n"
      ],
      "metadata": {
        "colab": {
          "base_uri": "https://localhost:8080/"
        },
        "id": "pv5u-ZfOIGDv",
        "outputId": "4fd3d12c-1bca-4bf7-d743-d968f75b3308"
      },
      "execution_count": null,
      "outputs": [
        {
          "output_type": "stream",
          "name": "stdout",
          "text": [
            "Merged list: 2 3 5 10 15 20 "
          ]
        }
      ]
    },
    {
      "cell_type": "markdown",
      "source": [
        "Question 7"
      ],
      "metadata": {
        "id": "typ7rlDMaFyo"
      }
    },
    {
      "cell_type": "code",
      "source": [
        "class Node:\n",
        "    def __init__(self, data):\n",
        "        self.data = data\n",
        "        self.prev = None\n",
        "        self.next = None\n",
        "\n",
        "def reverse_doubly_linked_list(head):\n",
        "    if head is None or head.next is None:\n",
        "        return head\n",
        "\n",
        "    prev = None\n",
        "    current = head\n",
        "\n",
        "    while current is not None:\n",
        "        next_node = current.next\n",
        "        current.next = prev\n",
        "        current.prev = next_node\n",
        "        prev = current\n",
        "        current = next_node\n",
        "\n",
        "    head = prev\n",
        "    return head\n"
      ],
      "metadata": {
        "id": "nEwTWk0TaFt-"
      },
      "execution_count": null,
      "outputs": []
    },
    {
      "cell_type": "code",
      "source": [
        "# Create the original doubly linked list\n",
        "head = Node(10)\n",
        "head.next = Node(8)\n",
        "head.next.prev = head\n",
        "head.next.next = Node(4)\n",
        "head.next.next.prev = head.next\n",
        "head.next.next.next = Node(2)\n",
        "head.next.next.next.prev = head.next.next\n",
        "\n",
        "# Print the original list\n",
        "print(\"Original Linked list:\", end=\" \")\n",
        "current = head\n",
        "while current is not None:\n",
        "    print(current.data, end=\" \")\n",
        "    current = current.next\n",
        "print()\n",
        "\n",
        "# Reverse the doubly linked list\n",
        "reversed_head = reverse_doubly_linked_list(head)\n",
        "\n",
        "# Print the reversed list\n",
        "print(\"Reversed Linked list:\", end=\" \")\n",
        "current = reversed_head\n",
        "while current is not None:\n",
        "    print(current.data, end=\" \")\n",
        "    current = current.next\n"
      ],
      "metadata": {
        "colab": {
          "base_uri": "https://localhost:8080/"
        },
        "id": "vpedrCP8IOzq",
        "outputId": "140461a4-d461-4c32-f606-23bdd6326292"
      },
      "execution_count": null,
      "outputs": [
        {
          "output_type": "stream",
          "name": "stdout",
          "text": [
            "Original Linked list: 10 8 4 2 \n",
            "Reversed Linked list: 2 4 8 10 "
          ]
        }
      ]
    },
    {
      "cell_type": "markdown",
      "source": [
        "Question 8"
      ],
      "metadata": {
        "id": "q0by0pA9aF_f"
      }
    },
    {
      "cell_type": "code",
      "source": [
        "class Node:\n",
        "    def __init__(self, data):\n",
        "        self.data = data\n",
        "        self.prev = None\n",
        "        self.next = None\n",
        "\n",
        "def delete_node_from_position(head, position):\n",
        "    if head is None:\n",
        "        return head\n",
        "\n",
        "    if position == 1:\n",
        "        new_head = head.next\n",
        "        if new_head is not None:\n",
        "            new_head.prev = None\n",
        "        return new_head\n",
        "\n",
        "    current = head\n",
        "    for _ in range(position - 1):\n",
        "        if current is None:\n",
        "            return head\n",
        "        current = current.next\n",
        "\n",
        "    if current is None:\n",
        "        return head\n",
        "\n",
        "    prev_node = current.prev\n",
        "    next_node = current.next\n",
        "\n",
        "    if prev_node is not None:\n",
        "        prev_node.next = next_node\n",
        "\n",
        "    if next_node is not None:\n",
        "        next_node.prev = prev_node\n",
        "\n",
        "    return head\n"
      ],
      "metadata": {
        "id": "mvc7gCDMIUq2"
      },
      "execution_count": null,
      "outputs": []
    },
    {
      "cell_type": "code",
      "source": [
        "# Create the original doubly linked list\n",
        "head = Node(1)\n",
        "node2 = Node(3)\n",
        "node3 = Node(4)\n",
        "head.next = node2\n",
        "node2.prev = head\n",
        "node2.next = node3\n",
        "node3.prev = node2\n",
        "\n",
        "# Print the original list\n",
        "print(\"Original Linked list:\", end=\" \")\n",
        "current = head\n",
        "while current is not None:\n",
        "    print(current.data, end=\" \")\n",
        "    current = current.next\n",
        "print()\n",
        "\n",
        "# Delete the node at position 3\n",
        "position = 3\n",
        "new_head = delete_node_from_position(head, position)\n",
        "\n",
        "# Print the updated list\n",
        "print(\"Updated Linked list:\", end=\" \")\n",
        "current = new_head\n",
        "while current is not None:\n",
        "    print(current.data, end=\" \")\n",
        "    current = current.next\n"
      ],
      "metadata": {
        "colab": {
          "base_uri": "https://localhost:8080/"
        },
        "id": "tC-Y4MDiIWrw",
        "outputId": "398dbe58-4bec-4050-e7e0-1973eeb9a77f"
      },
      "execution_count": null,
      "outputs": [
        {
          "output_type": "stream",
          "name": "stdout",
          "text": [
            "Original Linked list: 1 3 4 \n",
            "Updated Linked list: 1 3 "
          ]
        }
      ]
    }
  ]
}